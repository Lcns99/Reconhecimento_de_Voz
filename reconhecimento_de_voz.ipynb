{
 "cells": [
  {
   "cell_type": "code",
   "execution_count": 3,
   "metadata": {
    "colab": {
     "base_uri": "https://localhost:8080/",
     "height": 129
    },
    "id": "fPsK-Q9XoFT1",
    "outputId": "4502e51b-ed38-46c9-c8f6-9884b5994fcd"
   },
   "outputs": [
    {
     "name": "stdout",
     "output_type": "stream",
     "text": [
      "Requirement already satisfied: SpeechRecognition in c:\\users\\leo_n\\anaconda3\\lib\\site-packages (3.8.1)\n",
      "Requirement already satisfied: pyaudio in c:\\users\\leo_n\\anaconda3\\lib\\site-packages (0.2.11)\n"
     ]
    }
   ],
   "source": [
    "#instalando bibliotecas\n",
    "!pip install SpeechRecognition\n",
    "#Não fucionou foi instalado via shell do anaconda \n",
    "#>pip install PyAudio-0.2.11-cp38-cp38-win_amd64.whl p/ versão do python 3.8.3\n",
    "!pip install pyaudio  \n"
   ]
  },
  {
   "cell_type": "code",
   "execution_count": 12,
   "metadata": {
    "colab": {
     "base_uri": "https://localhost:8080/",
     "height": 425
    },
    "id": "AMznEOnYnYBi",
    "outputId": "2fda8cd6-e377-4b69-d861-d0a75b509147"
   },
   "outputs": [
    {
     "name": "stdout",
     "output_type": "stream",
     "text": [
      "Diga algo: \n",
      "Você disse: Olá meu nome é eu não\n"
     ]
    },
    {
     "data": {
      "text/plain": [
       "'Olá meu nome é eu não'"
      ]
     },
     "execution_count": 12,
     "metadata": {},
     "output_type": "execute_result"
    }
   ],
   "source": [
    "import speech_recognition as sr\n",
    "\n",
    "#Função para ouvir e reconhecer a fala\n",
    "def ouvir_microfone():\n",
    "  #Habilitando o microfone\n",
    "  microfone = sr.Recognizer()\n",
    "  with sr.Microphone() as source:\n",
    "    #Chamando a função de ruído disponível na speech_recognition\n",
    "    microfone.adjust_for_ambient_noise(source)\n",
    "    #Avisando o usuário que está pronto para ouvir\n",
    "    print('Diga algo: ')\n",
    "    #Armazenando a informação de áudio na variável\n",
    "    audio = microfone.listen(source)\n",
    "    \n",
    "    try:\n",
    "      #Passando o audio para o reconhecedor de padroes do speech_recognition\n",
    "      frase = microfone.recognize_google(audio,language = 'pt-BR')\n",
    "      #Após alguns segundos, retorna a frase falada\n",
    "      print(\"Você disse: \" + frase)\n",
    "\n",
    "    #Caso não tenha reconhecido o padrão de fala, exibe a mensagem\n",
    "    except sr.UnknownValueError:\n",
    "      print('Não Entendi')\n",
    "    return frase\n",
    "\n",
    "ouvir_microfone()"
   ]
  },
  {
   "cell_type": "code",
   "execution_count": 14,
   "metadata": {},
   "outputs": [
    {
     "name": "stdout",
     "output_type": "stream",
     "text": [
      "Requirement already satisfied: gTTS in c:\\users\\leo_n\\anaconda3\\lib\\site-packages (2.2.1)\n",
      "Requirement already satisfied: click in c:\\users\\leo_n\\anaconda3\\lib\\site-packages (from gTTS) (7.1.2)\n",
      "Requirement already satisfied: six in c:\\users\\leo_n\\anaconda3\\lib\\site-packages (from gTTS) (1.15.0)\n",
      "Requirement already satisfied: requests in c:\\users\\leo_n\\anaconda3\\lib\\site-packages (from gTTS) (2.24.0)\n",
      "Requirement already satisfied: urllib3!=1.25.0,!=1.25.1,<1.26,>=1.21.1 in c:\\users\\leo_n\\anaconda3\\lib\\site-packages (from requests->gTTS) (1.25.9)\n",
      "Requirement already satisfied: certifi>=2017.4.17 in c:\\users\\leo_n\\anaconda3\\lib\\site-packages (from requests->gTTS) (2020.6.20)\n",
      "Requirement already satisfied: idna<3,>=2.5 in c:\\users\\leo_n\\anaconda3\\lib\\site-packages (from requests->gTTS) (2.10)\n",
      "Requirement already satisfied: chardet<4,>=3.0.2 in c:\\users\\leo_n\\anaconda3\\lib\\site-packages (from requests->gTTS) (3.0.4)\n",
      "Requirement already satisfied: playsound in c:\\users\\leo_n\\anaconda3\\lib\\site-packages (1.2.2)\n"
     ]
    }
   ],
   "source": [
    "!pip install gTTS\n",
    "!pip install playsound"
   ]
  },
  {
   "cell_type": "code",
   "execution_count": 15,
   "metadata": {},
   "outputs": [],
   "source": [
    "#importando bibliotecas para que o áudio seja repetido\n",
    "from gtts import gTTS\n",
    "from playsound import playsound"
   ]
  },
  {
   "cell_type": "code",
   "execution_count": 19,
   "metadata": {},
   "outputs": [
    {
     "name": "stdout",
     "output_type": "stream",
     "text": [
      "Diga algo: \n",
      "Você disse: Olá tudo bem\n",
      "Eu estou aprendendo o que você disse...\n"
     ]
    }
   ],
   "source": [
    "#Função resnponsável por falar\n",
    "def cria_audio(audio):\n",
    "    tts = gTTS(audio, lang = 'pt-br')\n",
    "    #Salvando o arquivo de áudio\n",
    "    tts.save('phrase.mp3')\n",
    "    print('Eu estou aprendendo o que você disse...')\n",
    "    #Iniciando o áudio\n",
    "    playsound('phrase.mp3')\n",
    "\n",
    "#Reutilizando a função ouvir_microfone\n",
    "f = ouvir_microfone()\n",
    "cria_audio(f)"
   ]
  },
  {
   "cell_type": "code",
   "execution_count": null,
   "metadata": {},
   "outputs": [],
   "source": []
  }
 ],
 "metadata": {
  "colab": {
   "name": "reconhecimento_de_voz.ipynb",
   "provenance": []
  },
  "kernelspec": {
   "display_name": "Python 3",
   "language": "python",
   "name": "python3"
  },
  "language_info": {
   "codemirror_mode": {
    "name": "ipython",
    "version": 3
   },
   "file_extension": ".py",
   "mimetype": "text/x-python",
   "name": "python",
   "nbconvert_exporter": "python",
   "pygments_lexer": "ipython3",
   "version": "3.8.3"
  }
 },
 "nbformat": 4,
 "nbformat_minor": 1
}
